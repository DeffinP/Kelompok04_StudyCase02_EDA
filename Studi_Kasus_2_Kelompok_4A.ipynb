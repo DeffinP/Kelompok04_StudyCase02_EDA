{
  "nbformat": 4,
  "nbformat_minor": 0,
  "metadata": {
    "colab": {
      "provenance": [],
      "collapsed_sections": [],
      "include_colab_link": true
    },
    "kernelspec": {
      "name": "python3",
      "display_name": "Python 3"
    },
    "language_info": {
      "name": "python"
    }
  },
  "cells": [
    {
      "cell_type": "markdown",
      "metadata": {
        "id": "view-in-github",
        "colab_type": "text"
      },
      "source": [
        "<a href=\"https://colab.research.google.com/github/DeffinP/Kelompok04_StudyCase02_EDA/blob/main/Studi_Kasus_2_Kelompok_4A.ipynb\" target=\"_parent\"><img src=\"https://colab.research.google.com/assets/colab-badge.svg\" alt=\"Open In Colab\"/></a>"
      ]
    },
    {
      "cell_type": "markdown",
      "source": [
        "###*STUDI KASUS 02 - Academic Analytics*\n",
        "#####*Kelompok 4A*\n",
        "1.   Deffin Purnama Noer (11210940000036) - (Ketua Kelompok)\n",
        "2.   Lariesa Ananda Putri (11210940000006)\n",
        "3.   Azka Azzahra Khairiyah (11210940000012)\n",
        "4.   Syarifah Syila Alkadrie (11210940000019)\n",
        "5.   Najla Putri Dwijani (11210940000023)\n",
        "6.   Zahra Tifani Apriliana (11210940000029)\n",
        "7.   Nadya Rifqah Khairani (11210940000041)"
      ],
      "metadata": {
        "id": "TLOr1Lk-pcoE"
      }
    },
    {
      "cell_type": "code",
      "source": [
        "# Loading Data:\n",
        "import pandas as pd\n",
        "\n",
        "try: \n",
        "    mengajar = pd.read_csv(\"data/mengajar.csv\", low_memory = False, encoding='utf8')\n",
        "    dosen = pd.read_csv(\"data/tb_dosen.csv\", low_memory = False, encoding='utf8')\n",
        "    kelas = pd.read_csv(\"data/tb_kelas.csv\", low_memory = False, encoding='utf8')\n",
        "    krs = pd.read_csv(\"data/tb_krs.csv\", low_memory = False, encoding='utf8')\n",
        "    mahasiswa = pd.read_csv(\"data/tb_mahasiswa.csv\", low_memory = False, encoding='utf8')\n",
        "    matkul = pd.read_csv(\"data/tb_mata_kuliah.csv\", low_memory = False, encoding='utf8')\n",
        "    nilai = pd.read_csv(\"data/tb_nilai.csv\", low_memory = False, encoding='utf8')\n",
        "except:\n",
        "    !mkdir data\n",
        "    !wget -P data/ https://raw.githubusercontent.com/DeffinP/Kelompok04_StudyCase02_EDA/main/data/mengajar.csv\n",
        "    !wget -P data/ https://raw.githubusercontent.com/DeffinP/Kelompok04_StudyCase02_EDA/main/data/tb_dosen.csv\n",
        "    !wget -P data/ https://raw.githubusercontent.com/DeffinP/Kelompok04_StudyCase02_EDA/main/data/tb_kelas.csv\n",
        "    !wget -P data/ https://raw.githubusercontent.com/DeffinP/Kelompok04_StudyCase02_EDA/main/data/tb_krs.csv\n",
        "    !wget -P data/ https://raw.githubusercontent.com/DeffinP/Kelompok04_StudyCase02_EDA/main/data/tb_mahasiswa.csv\n",
        "    !wget -P data/ https://raw.githubusercontent.com/DeffinP/Kelompok04_StudyCase02_EDA/main/data/tb_mata_kuliah.csv\n",
        "    !wget -P data/ https://raw.githubusercontent.com/DeffinP/Kelompok04_StudyCase02_EDA/main/data/tb_nilai.csv\n",
        "\n",
        "mengajar = pd.read_csv(\"data/mengajar.csv\", low_memory = False, encoding='utf8')\n",
        "dosen = pd.read_csv(\"data/tb_dosen.csv\", low_memory = False, encoding='utf8')\n",
        "kelas = pd.read_csv(\"data/tb_kelas.csv\", low_memory = False, encoding='utf8')\n",
        "krs = pd.read_csv(\"data/tb_krs.csv\", low_memory = False, encoding='utf8')\n",
        "mahasiswa = pd.read_csv(\"data/tb_mahasiswa.csv\", low_memory = False, encoding='utf8')\n",
        "matkul = pd.read_csv(\"data/tb_mata_kuliah.csv\", low_memory = False, encoding='utf8')\n",
        "nilai = pd.read_csv(\"data/tb_nilai.csv\", low_memory = False, encoding='utf8')\n",
        "\n",
        "mengajar.shape, dosen.shape, kelas.shape, krs.shape, mahasiswa.shape, matkul.shape, nilai.shape"
      ],
      "metadata": {
        "colab": {
          "base_uri": "https://localhost:8080/"
        },
        "id": "e1C1738PC7zf",
        "outputId": "52d42083-30ab-42a8-aecc-405df2289297"
      },
      "execution_count": null,
      "outputs": [
        {
          "output_type": "execute_result",
          "data": {
            "text/plain": [
              "((14, 4), (4, 6), (4, 4), (7, 6), (15, 8), (9, 3), (33, 7))"
            ]
          },
          "metadata": {},
          "execution_count": 16
        }
      ]
    },
    {
      "cell_type": "code",
      "execution_count": null,
      "metadata": {
        "id": "zyPZbgz0c3M4"
      },
      "outputs": [],
      "source": [
        "#import pandas as pd\n",
        "#mengajar = pd.read_csv(\"/content/mengajar.csv\", low_memory = False, encoding='utf8')\n",
        "#dosen = pd.read_csv(\"/content/tb_dosen.csv\", low_memory = False, encoding='utf8')\n",
        "#kelas = pd.read_csv(\"/content/tb_kelas.csv\", low_memory = False, encoding='utf8')\n",
        "#krs = pd.read_csv(\"/content/tb_krs.csv\", low_memory = False, encoding='utf8')\n",
        "#mahasiswa = pd.read_csv(\"/content/tb_mahasiswa.csv\", low_memory = False, encoding='utf8')\n",
        "#matkul = pd.read_csv(\"/content/tb_mata_kuliah.csv\", low_memory = False, encoding='utf8')\n",
        "#nilai = pd.read_csv(\"/content/tb_nilai.csv\", low_memory = False, encoding='utf8')\n",
        "\n",
        "#mengajar.shape, dosen.shape, kelas.shape, krs.shape, mahasiswa.shape, matkul.shape, nilai.shape"
      ]
    },
    {
      "cell_type": "markdown",
      "source": [
        "#Nomor 1 dan 2\n",
        "1. Apakah ada dosen yang cenderung memberikan nilai cenderung lebih tinggi (atau lebih rendah) dibandingkan dosen lainnya?\n",
        "2. Menurut data yang ada, apakah terdapat perbedaan dalam pemberian nilai antara dosen dengan Pendidikan Terakhir S3 dan S2?"
      ],
      "metadata": {
        "id": "JA5r2o5dDECc"
      }
    },
    {
      "cell_type": "code",
      "source": [
        "nilai_dosen = nilai.groupby(nilai['NIDN']).mean()[['nilai']]\n",
        "nilai_dosen = nilai_dosen.rename({'nilai': 'mean_nilai'}, axis=1) \n",
        "nilai_dosen = pd.merge(dosen, nilai_dosen, left_on='NIDN', right_index=True)\n",
        "nilai_dosen = nilai_dosen[['NIDN', 'nama', 'mean_nilai']]\n",
        "\n",
        "sb = nilai.groupby(nilai['NIDN']).std()[['nilai']]\n",
        "sb = sb.rename({'nilai': 'std_nilai'}, axis=1) \n",
        "\n",
        "nilai_dosen = nilai_dosen.set_index(['NIDN']) \n",
        "nilai_dosen = pd.concat([nilai_dosen, sb], axis=1)\n",
        "nilai_dosen"
      ],
      "metadata": {
        "id": "tcjIIDVuhBfW",
        "colab": {
          "base_uri": "https://localhost:8080/",
          "height": 206
        },
        "outputId": "f6183a89-084b-4dd4-809b-10afe59d08f1"
      },
      "execution_count": null,
      "outputs": [
        {
          "output_type": "execute_result",
          "data": {
            "text/plain": [
              "               nama  mean_nilai  std_nilai\n",
              "NIDN                                      \n",
              "123    Andri Basuki   85.750000   7.741355\n",
              "234        zulfikar   80.428571  15.883504\n",
              "345   Annisa Fitria   60.090909  16.220077\n",
              "787            yudi   70.571429  13.010984"
            ],
            "text/html": [
              "\n",
              "  <div id=\"df-6d45ec9c-9a0c-4439-bd05-4b3c03fc7186\">\n",
              "    <div class=\"colab-df-container\">\n",
              "      <div>\n",
              "<style scoped>\n",
              "    .dataframe tbody tr th:only-of-type {\n",
              "        vertical-align: middle;\n",
              "    }\n",
              "\n",
              "    .dataframe tbody tr th {\n",
              "        vertical-align: top;\n",
              "    }\n",
              "\n",
              "    .dataframe thead th {\n",
              "        text-align: right;\n",
              "    }\n",
              "</style>\n",
              "<table border=\"1\" class=\"dataframe\">\n",
              "  <thead>\n",
              "    <tr style=\"text-align: right;\">\n",
              "      <th></th>\n",
              "      <th>nama</th>\n",
              "      <th>mean_nilai</th>\n",
              "      <th>std_nilai</th>\n",
              "    </tr>\n",
              "    <tr>\n",
              "      <th>NIDN</th>\n",
              "      <th></th>\n",
              "      <th></th>\n",
              "      <th></th>\n",
              "    </tr>\n",
              "  </thead>\n",
              "  <tbody>\n",
              "    <tr>\n",
              "      <th>123</th>\n",
              "      <td>Andri Basuki</td>\n",
              "      <td>85.750000</td>\n",
              "      <td>7.741355</td>\n",
              "    </tr>\n",
              "    <tr>\n",
              "      <th>234</th>\n",
              "      <td>zulfikar</td>\n",
              "      <td>80.428571</td>\n",
              "      <td>15.883504</td>\n",
              "    </tr>\n",
              "    <tr>\n",
              "      <th>345</th>\n",
              "      <td>Annisa Fitria</td>\n",
              "      <td>60.090909</td>\n",
              "      <td>16.220077</td>\n",
              "    </tr>\n",
              "    <tr>\n",
              "      <th>787</th>\n",
              "      <td>yudi</td>\n",
              "      <td>70.571429</td>\n",
              "      <td>13.010984</td>\n",
              "    </tr>\n",
              "  </tbody>\n",
              "</table>\n",
              "</div>\n",
              "      <button class=\"colab-df-convert\" onclick=\"convertToInteractive('df-6d45ec9c-9a0c-4439-bd05-4b3c03fc7186')\"\n",
              "              title=\"Convert this dataframe to an interactive table.\"\n",
              "              style=\"display:none;\">\n",
              "        \n",
              "  <svg xmlns=\"http://www.w3.org/2000/svg\" height=\"24px\"viewBox=\"0 0 24 24\"\n",
              "       width=\"24px\">\n",
              "    <path d=\"M0 0h24v24H0V0z\" fill=\"none\"/>\n",
              "    <path d=\"M18.56 5.44l.94 2.06.94-2.06 2.06-.94-2.06-.94-.94-2.06-.94 2.06-2.06.94zm-11 1L8.5 8.5l.94-2.06 2.06-.94-2.06-.94L8.5 2.5l-.94 2.06-2.06.94zm10 10l.94 2.06.94-2.06 2.06-.94-2.06-.94-.94-2.06-.94 2.06-2.06.94z\"/><path d=\"M17.41 7.96l-1.37-1.37c-.4-.4-.92-.59-1.43-.59-.52 0-1.04.2-1.43.59L10.3 9.45l-7.72 7.72c-.78.78-.78 2.05 0 2.83L4 21.41c.39.39.9.59 1.41.59.51 0 1.02-.2 1.41-.59l7.78-7.78 2.81-2.81c.8-.78.8-2.07 0-2.86zM5.41 20L4 18.59l7.72-7.72 1.47 1.35L5.41 20z\"/>\n",
              "  </svg>\n",
              "      </button>\n",
              "      \n",
              "  <style>\n",
              "    .colab-df-container {\n",
              "      display:flex;\n",
              "      flex-wrap:wrap;\n",
              "      gap: 12px;\n",
              "    }\n",
              "\n",
              "    .colab-df-convert {\n",
              "      background-color: #E8F0FE;\n",
              "      border: none;\n",
              "      border-radius: 50%;\n",
              "      cursor: pointer;\n",
              "      display: none;\n",
              "      fill: #1967D2;\n",
              "      height: 32px;\n",
              "      padding: 0 0 0 0;\n",
              "      width: 32px;\n",
              "    }\n",
              "\n",
              "    .colab-df-convert:hover {\n",
              "      background-color: #E2EBFA;\n",
              "      box-shadow: 0px 1px 2px rgba(60, 64, 67, 0.3), 0px 1px 3px 1px rgba(60, 64, 67, 0.15);\n",
              "      fill: #174EA6;\n",
              "    }\n",
              "\n",
              "    [theme=dark] .colab-df-convert {\n",
              "      background-color: #3B4455;\n",
              "      fill: #D2E3FC;\n",
              "    }\n",
              "\n",
              "    [theme=dark] .colab-df-convert:hover {\n",
              "      background-color: #434B5C;\n",
              "      box-shadow: 0px 1px 3px 1px rgba(0, 0, 0, 0.15);\n",
              "      filter: drop-shadow(0px 1px 2px rgba(0, 0, 0, 0.3));\n",
              "      fill: #FFFFFF;\n",
              "    }\n",
              "  </style>\n",
              "\n",
              "      <script>\n",
              "        const buttonEl =\n",
              "          document.querySelector('#df-6d45ec9c-9a0c-4439-bd05-4b3c03fc7186 button.colab-df-convert');\n",
              "        buttonEl.style.display =\n",
              "          google.colab.kernel.accessAllowed ? 'block' : 'none';\n",
              "\n",
              "        async function convertToInteractive(key) {\n",
              "          const element = document.querySelector('#df-6d45ec9c-9a0c-4439-bd05-4b3c03fc7186');\n",
              "          const dataTable =\n",
              "            await google.colab.kernel.invokeFunction('convertToInteractive',\n",
              "                                                     [key], {});\n",
              "          if (!dataTable) return;\n",
              "\n",
              "          const docLinkHtml = 'Like what you see? Visit the ' +\n",
              "            '<a target=\"_blank\" href=https://colab.research.google.com/notebooks/data_table.ipynb>data table notebook</a>'\n",
              "            + ' to learn more about interactive tables.';\n",
              "          element.innerHTML = '';\n",
              "          dataTable['output_type'] = 'display_data';\n",
              "          await google.colab.output.renderOutput(dataTable, element);\n",
              "          const docLink = document.createElement('div');\n",
              "          docLink.innerHTML = docLinkHtml;\n",
              "          element.appendChild(docLink);\n",
              "        }\n",
              "      </script>\n",
              "    </div>\n",
              "  </div>\n",
              "  "
            ]
          },
          "metadata": {},
          "execution_count": 18
        }
      ]
    },
    {
      "cell_type": "markdown",
      "source": [
        "# Interpretasi 01: Perbedaan Pemberian Nilai oleh Dosen\n",
        "\n",
        "Berdasarkan tabel di atas mengenai dosen yang cenderung memberikan nilai lebih tinggi atau lebih rendah dibandingkan dosen lainnya, sepertinya terdapat indikasi yang kuat bahwa Pak Andri Basuki merupakan dosen yang cenderung memberikan nilai yang lebih tinggi untuk para mahasiswanya dan Ibu Annisa Fitria merupakan dosen yang cenderung memberikan nilai yang rendah untuk para mahasiswanya.  Hal ini pun terlihat dari simpangan baku serta rata-rata nilai Pak Andri Basuki yang menunjukkan bahwa nilai dari standar deviasi Pak Andri Basuki lebih kecil dari nilai rata-ratanya. Sedangkan nilai dari standar deviasi Ibu Annisa Fitria lebih besar daripada nilai rata-ratanya. Sehingga dapat disimpulkan bahwa Pak Andri Basuki memang merupakan dosen yang cenderung memberikan nilai lebih tinggi untuk para mahasiswanya."
      ],
      "metadata": {
        "id": "pA-g1a8ao6Sh"
      }
    },
    {
      "cell_type": "markdown",
      "source": [
        "#Interpretasi 02: Nilai Berdasarkan Tingkat Pendidikan\n",
        "\n",
        "Pada tabel di atas, sepertinya dosen yang memiliki tingkat pendidikan S3 cenderung memberikan nilai lebih tinggi dibandingkan dosen yang memiliki tingkat pendidikan S2. Dapat dilihat pada dosen yang berpendidikan S3, yaitu Pak Andri Basuki dan Pak Zulfikar, nilai dari simpangan baku adalah rendah dan nilai dari rata-ratanya tinggi yang menunjukkan bahwa standar deviasinya baik. Sedangkan untuk dosen yang berpendidikan S2, yaitu Ibu Annisa Fitria dan Pak Yudi, nilai dari simpangan baku adalah tinggi dan nilai dari rata-ratanya adalah rendah yang menunjukkan bahwa standar deviasinya tidak baik. Sehingga dapat disimpulkan bahwa untuk dosen yang berpendidikan S3 cenderung memberikan nilai lebih tinggi dibandingkan dosen yang berpendidikan S2."
      ],
      "metadata": {
        "id": "OoAk1muq41Uf"
      }
    },
    {
      "cell_type": "markdown",
      "source": [
        "#Nomor 3\n",
        "Apakah terdapat perbedaan performa akademik antara mahasiswa yang berasal dari Madrasah/SMK dan SMU?"
      ],
      "metadata": {
        "id": "ff--GUl_EtRe"
      }
    },
    {
      "cell_type": "code",
      "source": [
        "asal_mahasiswa = mahasiswa[['nim','nama','Asal_Sekolah']]\n",
        "nilai_mahasiswa = nilai[['nim','nilai']]\n",
        "data_gabungan = pd.merge(asal_mahasiswa, nilai_mahasiswa, on='nim', how='left')\n",
        "data_gabungan = data_gabungan.set_index(['Asal_Sekolah', 'nim', 'nama'])\n",
        "data_gabungan = data_gabungan.groupby(['Asal_Sekolah'])[['nilai']].mean()\n",
        "data_gabungan = data_gabungan.rename({'nilai': 'mean_nilai'}, axis=1)\n",
        "data_gabungan"
      ],
      "metadata": {
        "id": "m4d9CZOkoqbF",
        "colab": {
          "base_uri": "https://localhost:8080/",
          "height": 175
        },
        "outputId": "8c134163-43af-43df-82fe-d96fb39ec16a"
      },
      "execution_count": null,
      "outputs": [
        {
          "output_type": "execute_result",
          "data": {
            "text/plain": [
              "              mean_nilai\n",
              "Asal_Sekolah            \n",
              "MA             70.777778\n",
              "SMK            82.818182\n",
              "SMU            65.846154"
            ],
            "text/html": [
              "\n",
              "  <div id=\"df-219d1c31-d64d-4689-a308-bb8b5d30ec78\">\n",
              "    <div class=\"colab-df-container\">\n",
              "      <div>\n",
              "<style scoped>\n",
              "    .dataframe tbody tr th:only-of-type {\n",
              "        vertical-align: middle;\n",
              "    }\n",
              "\n",
              "    .dataframe tbody tr th {\n",
              "        vertical-align: top;\n",
              "    }\n",
              "\n",
              "    .dataframe thead th {\n",
              "        text-align: right;\n",
              "    }\n",
              "</style>\n",
              "<table border=\"1\" class=\"dataframe\">\n",
              "  <thead>\n",
              "    <tr style=\"text-align: right;\">\n",
              "      <th></th>\n",
              "      <th>mean_nilai</th>\n",
              "    </tr>\n",
              "    <tr>\n",
              "      <th>Asal_Sekolah</th>\n",
              "      <th></th>\n",
              "    </tr>\n",
              "  </thead>\n",
              "  <tbody>\n",
              "    <tr>\n",
              "      <th>MA</th>\n",
              "      <td>70.777778</td>\n",
              "    </tr>\n",
              "    <tr>\n",
              "      <th>SMK</th>\n",
              "      <td>82.818182</td>\n",
              "    </tr>\n",
              "    <tr>\n",
              "      <th>SMU</th>\n",
              "      <td>65.846154</td>\n",
              "    </tr>\n",
              "  </tbody>\n",
              "</table>\n",
              "</div>\n",
              "      <button class=\"colab-df-convert\" onclick=\"convertToInteractive('df-219d1c31-d64d-4689-a308-bb8b5d30ec78')\"\n",
              "              title=\"Convert this dataframe to an interactive table.\"\n",
              "              style=\"display:none;\">\n",
              "        \n",
              "  <svg xmlns=\"http://www.w3.org/2000/svg\" height=\"24px\"viewBox=\"0 0 24 24\"\n",
              "       width=\"24px\">\n",
              "    <path d=\"M0 0h24v24H0V0z\" fill=\"none\"/>\n",
              "    <path d=\"M18.56 5.44l.94 2.06.94-2.06 2.06-.94-2.06-.94-.94-2.06-.94 2.06-2.06.94zm-11 1L8.5 8.5l.94-2.06 2.06-.94-2.06-.94L8.5 2.5l-.94 2.06-2.06.94zm10 10l.94 2.06.94-2.06 2.06-.94-2.06-.94-.94-2.06-.94 2.06-2.06.94z\"/><path d=\"M17.41 7.96l-1.37-1.37c-.4-.4-.92-.59-1.43-.59-.52 0-1.04.2-1.43.59L10.3 9.45l-7.72 7.72c-.78.78-.78 2.05 0 2.83L4 21.41c.39.39.9.59 1.41.59.51 0 1.02-.2 1.41-.59l7.78-7.78 2.81-2.81c.8-.78.8-2.07 0-2.86zM5.41 20L4 18.59l7.72-7.72 1.47 1.35L5.41 20z\"/>\n",
              "  </svg>\n",
              "      </button>\n",
              "      \n",
              "  <style>\n",
              "    .colab-df-container {\n",
              "      display:flex;\n",
              "      flex-wrap:wrap;\n",
              "      gap: 12px;\n",
              "    }\n",
              "\n",
              "    .colab-df-convert {\n",
              "      background-color: #E8F0FE;\n",
              "      border: none;\n",
              "      border-radius: 50%;\n",
              "      cursor: pointer;\n",
              "      display: none;\n",
              "      fill: #1967D2;\n",
              "      height: 32px;\n",
              "      padding: 0 0 0 0;\n",
              "      width: 32px;\n",
              "    }\n",
              "\n",
              "    .colab-df-convert:hover {\n",
              "      background-color: #E2EBFA;\n",
              "      box-shadow: 0px 1px 2px rgba(60, 64, 67, 0.3), 0px 1px 3px 1px rgba(60, 64, 67, 0.15);\n",
              "      fill: #174EA6;\n",
              "    }\n",
              "\n",
              "    [theme=dark] .colab-df-convert {\n",
              "      background-color: #3B4455;\n",
              "      fill: #D2E3FC;\n",
              "    }\n",
              "\n",
              "    [theme=dark] .colab-df-convert:hover {\n",
              "      background-color: #434B5C;\n",
              "      box-shadow: 0px 1px 3px 1px rgba(0, 0, 0, 0.15);\n",
              "      filter: drop-shadow(0px 1px 2px rgba(0, 0, 0, 0.3));\n",
              "      fill: #FFFFFF;\n",
              "    }\n",
              "  </style>\n",
              "\n",
              "      <script>\n",
              "        const buttonEl =\n",
              "          document.querySelector('#df-219d1c31-d64d-4689-a308-bb8b5d30ec78 button.colab-df-convert');\n",
              "        buttonEl.style.display =\n",
              "          google.colab.kernel.accessAllowed ? 'block' : 'none';\n",
              "\n",
              "        async function convertToInteractive(key) {\n",
              "          const element = document.querySelector('#df-219d1c31-d64d-4689-a308-bb8b5d30ec78');\n",
              "          const dataTable =\n",
              "            await google.colab.kernel.invokeFunction('convertToInteractive',\n",
              "                                                     [key], {});\n",
              "          if (!dataTable) return;\n",
              "\n",
              "          const docLinkHtml = 'Like what you see? Visit the ' +\n",
              "            '<a target=\"_blank\" href=https://colab.research.google.com/notebooks/data_table.ipynb>data table notebook</a>'\n",
              "            + ' to learn more about interactive tables.';\n",
              "          element.innerHTML = '';\n",
              "          dataTable['output_type'] = 'display_data';\n",
              "          await google.colab.output.renderOutput(dataTable, element);\n",
              "          const docLink = document.createElement('div');\n",
              "          docLink.innerHTML = docLinkHtml;\n",
              "          element.appendChild(docLink);\n",
              "        }\n",
              "      </script>\n",
              "    </div>\n",
              "  </div>\n",
              "  "
            ]
          },
          "metadata": {},
          "execution_count": 19
        }
      ]
    },
    {
      "cell_type": "markdown",
      "source": [
        "#Interpretasi 03: Performa Akademik Berdasarkan Asal Sekolah Mahasiswa\n",
        "\n",
        "Berdasarkan data pada tabel di atas, kemungkinan terdapat perbedaan performa  akademik antara mahasiswa yang berasal dari MA, SMU, dan SMK. Sesuai dengan hasil rata-rata pada tabel di atas, dapat diindikasikan bahwa mahasiswa yang berasal dari SMK memiliki rata-rata nilai yang cenderung lebih tinggi daripada mahasiswa yang berasalah dari MA dan SMU. Oleh karena itu, hal ini menunjukkan bahwa terdapat kemungkinan untuk mahasiswa lulusan SMK memiliki performa akademik yang lebih baik dibandingkan mahasiswa lulusan MA dan SMU."
      ],
      "metadata": {
        "id": "bS1xac3x_rGE"
      }
    },
    {
      "cell_type": "markdown",
      "source": [
        "#Nomor 4\n",
        "Apakah ada perbedaan yang nampak di data terhadap kemampuan akademik antara mahasiswa dan mahasiswi?"
      ],
      "metadata": {
        "id": "8PQFo0zAEkhz"
      }
    },
    {
      "cell_type": "code",
      "source": [
        "gender_mahasiswa = mahasiswa[['nama','Gender']]\n",
        "nilai_gender = nilai.groupby(mahasiswa['Gender']).mean()[['nilai']]\n",
        "nilai_gender = nilai_gender.rename({'nilai': 'mean_nilai'}, axis=1)\n",
        "nilai_gender"
      ],
      "metadata": {
        "colab": {
          "base_uri": "https://localhost:8080/",
          "height": 143
        },
        "id": "OEHj4MjaAZY6",
        "outputId": "e742d482-c386-4af8-8993-9a38364b302b"
      },
      "execution_count": null,
      "outputs": [
        {
          "output_type": "execute_result",
          "data": {
            "text/plain": [
              "        mean_nilai\n",
              "Gender            \n",
              "Pria     81.222222\n",
              "Wanita   74.833333"
            ],
            "text/html": [
              "\n",
              "  <div id=\"df-281256ab-3cda-4fa5-86fe-da03fedd4b26\">\n",
              "    <div class=\"colab-df-container\">\n",
              "      <div>\n",
              "<style scoped>\n",
              "    .dataframe tbody tr th:only-of-type {\n",
              "        vertical-align: middle;\n",
              "    }\n",
              "\n",
              "    .dataframe tbody tr th {\n",
              "        vertical-align: top;\n",
              "    }\n",
              "\n",
              "    .dataframe thead th {\n",
              "        text-align: right;\n",
              "    }\n",
              "</style>\n",
              "<table border=\"1\" class=\"dataframe\">\n",
              "  <thead>\n",
              "    <tr style=\"text-align: right;\">\n",
              "      <th></th>\n",
              "      <th>mean_nilai</th>\n",
              "    </tr>\n",
              "    <tr>\n",
              "      <th>Gender</th>\n",
              "      <th></th>\n",
              "    </tr>\n",
              "  </thead>\n",
              "  <tbody>\n",
              "    <tr>\n",
              "      <th>Pria</th>\n",
              "      <td>81.222222</td>\n",
              "    </tr>\n",
              "    <tr>\n",
              "      <th>Wanita</th>\n",
              "      <td>74.833333</td>\n",
              "    </tr>\n",
              "  </tbody>\n",
              "</table>\n",
              "</div>\n",
              "      <button class=\"colab-df-convert\" onclick=\"convertToInteractive('df-281256ab-3cda-4fa5-86fe-da03fedd4b26')\"\n",
              "              title=\"Convert this dataframe to an interactive table.\"\n",
              "              style=\"display:none;\">\n",
              "        \n",
              "  <svg xmlns=\"http://www.w3.org/2000/svg\" height=\"24px\"viewBox=\"0 0 24 24\"\n",
              "       width=\"24px\">\n",
              "    <path d=\"M0 0h24v24H0V0z\" fill=\"none\"/>\n",
              "    <path d=\"M18.56 5.44l.94 2.06.94-2.06 2.06-.94-2.06-.94-.94-2.06-.94 2.06-2.06.94zm-11 1L8.5 8.5l.94-2.06 2.06-.94-2.06-.94L8.5 2.5l-.94 2.06-2.06.94zm10 10l.94 2.06.94-2.06 2.06-.94-2.06-.94-.94-2.06-.94 2.06-2.06.94z\"/><path d=\"M17.41 7.96l-1.37-1.37c-.4-.4-.92-.59-1.43-.59-.52 0-1.04.2-1.43.59L10.3 9.45l-7.72 7.72c-.78.78-.78 2.05 0 2.83L4 21.41c.39.39.9.59 1.41.59.51 0 1.02-.2 1.41-.59l7.78-7.78 2.81-2.81c.8-.78.8-2.07 0-2.86zM5.41 20L4 18.59l7.72-7.72 1.47 1.35L5.41 20z\"/>\n",
              "  </svg>\n",
              "      </button>\n",
              "      \n",
              "  <style>\n",
              "    .colab-df-container {\n",
              "      display:flex;\n",
              "      flex-wrap:wrap;\n",
              "      gap: 12px;\n",
              "    }\n",
              "\n",
              "    .colab-df-convert {\n",
              "      background-color: #E8F0FE;\n",
              "      border: none;\n",
              "      border-radius: 50%;\n",
              "      cursor: pointer;\n",
              "      display: none;\n",
              "      fill: #1967D2;\n",
              "      height: 32px;\n",
              "      padding: 0 0 0 0;\n",
              "      width: 32px;\n",
              "    }\n",
              "\n",
              "    .colab-df-convert:hover {\n",
              "      background-color: #E2EBFA;\n",
              "      box-shadow: 0px 1px 2px rgba(60, 64, 67, 0.3), 0px 1px 3px 1px rgba(60, 64, 67, 0.15);\n",
              "      fill: #174EA6;\n",
              "    }\n",
              "\n",
              "    [theme=dark] .colab-df-convert {\n",
              "      background-color: #3B4455;\n",
              "      fill: #D2E3FC;\n",
              "    }\n",
              "\n",
              "    [theme=dark] .colab-df-convert:hover {\n",
              "      background-color: #434B5C;\n",
              "      box-shadow: 0px 1px 3px 1px rgba(0, 0, 0, 0.15);\n",
              "      filter: drop-shadow(0px 1px 2px rgba(0, 0, 0, 0.3));\n",
              "      fill: #FFFFFF;\n",
              "    }\n",
              "  </style>\n",
              "\n",
              "      <script>\n",
              "        const buttonEl =\n",
              "          document.querySelector('#df-281256ab-3cda-4fa5-86fe-da03fedd4b26 button.colab-df-convert');\n",
              "        buttonEl.style.display =\n",
              "          google.colab.kernel.accessAllowed ? 'block' : 'none';\n",
              "\n",
              "        async function convertToInteractive(key) {\n",
              "          const element = document.querySelector('#df-281256ab-3cda-4fa5-86fe-da03fedd4b26');\n",
              "          const dataTable =\n",
              "            await google.colab.kernel.invokeFunction('convertToInteractive',\n",
              "                                                     [key], {});\n",
              "          if (!dataTable) return;\n",
              "\n",
              "          const docLinkHtml = 'Like what you see? Visit the ' +\n",
              "            '<a target=\"_blank\" href=https://colab.research.google.com/notebooks/data_table.ipynb>data table notebook</a>'\n",
              "            + ' to learn more about interactive tables.';\n",
              "          element.innerHTML = '';\n",
              "          dataTable['output_type'] = 'display_data';\n",
              "          await google.colab.output.renderOutput(dataTable, element);\n",
              "          const docLink = document.createElement('div');\n",
              "          docLink.innerHTML = docLinkHtml;\n",
              "          element.appendChild(docLink);\n",
              "        }\n",
              "      </script>\n",
              "    </div>\n",
              "  </div>\n",
              "  "
            ]
          },
          "metadata": {},
          "execution_count": 23
        }
      ]
    },
    {
      "cell_type": "markdown",
      "source": [
        "#Interpretasi 04: Kemampuan Akademik antara Mahasiswa dan Mahasiswi\n",
        "\n",
        "Berdasarkan data pada tabel di atas, terdapat perbedaan kemampuan akademik antara mahasiswa dan mahasiswi. Hal ini sesuai dengan rata-rata nilai pada tabel bahwa nilai rata-rata mahasiswa lebih tinggi dibandingkan nilai rata-rata mahasiswi. Sehingga terdapat kemungkinan bahwa terdapat perbedaan kemampuan akademik antara mahasiswa dan mahasiswi."
      ],
      "metadata": {
        "id": "kT51Yj2HG36E"
      }
    },
    {
      "cell_type": "markdown",
      "source": [
        "#Nomor 5\n",
        " Apakah ada perbedaan prestasi akademik yang nampak di data antar angkatan mahasiswa?"
      ],
      "metadata": {
        "id": "qYfVljZmEcRx"
      }
    },
    {
      "cell_type": "code",
      "source": [
        "nilai_angkatan = nilai.groupby(mahasiswa['Angkatan']).mean()[['nilai']] \n",
        "nilai_angkatan = nilai_angkatan.rename({'nilai': 'mean_nilai'}, axis=1)\n",
        "nilai_angkatan"
      ],
      "metadata": {
        "colab": {
          "base_uri": "https://localhost:8080/",
          "height": 143
        },
        "id": "B5FBf6vWDb3n",
        "outputId": "cbe8b436-5577-4846-d5ea-467ffbdb7c8a"
      },
      "execution_count": null,
      "outputs": [
        {
          "output_type": "execute_result",
          "data": {
            "text/plain": [
              "          mean_nilai\n",
              "Angkatan            \n",
              "2019.0     85.750000\n",
              "2020.0     70.571429"
            ],
            "text/html": [
              "\n",
              "  <div id=\"df-caeef187-c8ec-463d-94a5-936dbbe1d752\">\n",
              "    <div class=\"colab-df-container\">\n",
              "      <div>\n",
              "<style scoped>\n",
              "    .dataframe tbody tr th:only-of-type {\n",
              "        vertical-align: middle;\n",
              "    }\n",
              "\n",
              "    .dataframe tbody tr th {\n",
              "        vertical-align: top;\n",
              "    }\n",
              "\n",
              "    .dataframe thead th {\n",
              "        text-align: right;\n",
              "    }\n",
              "</style>\n",
              "<table border=\"1\" class=\"dataframe\">\n",
              "  <thead>\n",
              "    <tr style=\"text-align: right;\">\n",
              "      <th></th>\n",
              "      <th>mean_nilai</th>\n",
              "    </tr>\n",
              "    <tr>\n",
              "      <th>Angkatan</th>\n",
              "      <th></th>\n",
              "    </tr>\n",
              "  </thead>\n",
              "  <tbody>\n",
              "    <tr>\n",
              "      <th>2019.0</th>\n",
              "      <td>85.750000</td>\n",
              "    </tr>\n",
              "    <tr>\n",
              "      <th>2020.0</th>\n",
              "      <td>70.571429</td>\n",
              "    </tr>\n",
              "  </tbody>\n",
              "</table>\n",
              "</div>\n",
              "      <button class=\"colab-df-convert\" onclick=\"convertToInteractive('df-caeef187-c8ec-463d-94a5-936dbbe1d752')\"\n",
              "              title=\"Convert this dataframe to an interactive table.\"\n",
              "              style=\"display:none;\">\n",
              "        \n",
              "  <svg xmlns=\"http://www.w3.org/2000/svg\" height=\"24px\"viewBox=\"0 0 24 24\"\n",
              "       width=\"24px\">\n",
              "    <path d=\"M0 0h24v24H0V0z\" fill=\"none\"/>\n",
              "    <path d=\"M18.56 5.44l.94 2.06.94-2.06 2.06-.94-2.06-.94-.94-2.06-.94 2.06-2.06.94zm-11 1L8.5 8.5l.94-2.06 2.06-.94-2.06-.94L8.5 2.5l-.94 2.06-2.06.94zm10 10l.94 2.06.94-2.06 2.06-.94-2.06-.94-.94-2.06-.94 2.06-2.06.94z\"/><path d=\"M17.41 7.96l-1.37-1.37c-.4-.4-.92-.59-1.43-.59-.52 0-1.04.2-1.43.59L10.3 9.45l-7.72 7.72c-.78.78-.78 2.05 0 2.83L4 21.41c.39.39.9.59 1.41.59.51 0 1.02-.2 1.41-.59l7.78-7.78 2.81-2.81c.8-.78.8-2.07 0-2.86zM5.41 20L4 18.59l7.72-7.72 1.47 1.35L5.41 20z\"/>\n",
              "  </svg>\n",
              "      </button>\n",
              "      \n",
              "  <style>\n",
              "    .colab-df-container {\n",
              "      display:flex;\n",
              "      flex-wrap:wrap;\n",
              "      gap: 12px;\n",
              "    }\n",
              "\n",
              "    .colab-df-convert {\n",
              "      background-color: #E8F0FE;\n",
              "      border: none;\n",
              "      border-radius: 50%;\n",
              "      cursor: pointer;\n",
              "      display: none;\n",
              "      fill: #1967D2;\n",
              "      height: 32px;\n",
              "      padding: 0 0 0 0;\n",
              "      width: 32px;\n",
              "    }\n",
              "\n",
              "    .colab-df-convert:hover {\n",
              "      background-color: #E2EBFA;\n",
              "      box-shadow: 0px 1px 2px rgba(60, 64, 67, 0.3), 0px 1px 3px 1px rgba(60, 64, 67, 0.15);\n",
              "      fill: #174EA6;\n",
              "    }\n",
              "\n",
              "    [theme=dark] .colab-df-convert {\n",
              "      background-color: #3B4455;\n",
              "      fill: #D2E3FC;\n",
              "    }\n",
              "\n",
              "    [theme=dark] .colab-df-convert:hover {\n",
              "      background-color: #434B5C;\n",
              "      box-shadow: 0px 1px 3px 1px rgba(0, 0, 0, 0.15);\n",
              "      filter: drop-shadow(0px 1px 2px rgba(0, 0, 0, 0.3));\n",
              "      fill: #FFFFFF;\n",
              "    }\n",
              "  </style>\n",
              "\n",
              "      <script>\n",
              "        const buttonEl =\n",
              "          document.querySelector('#df-caeef187-c8ec-463d-94a5-936dbbe1d752 button.colab-df-convert');\n",
              "        buttonEl.style.display =\n",
              "          google.colab.kernel.accessAllowed ? 'block' : 'none';\n",
              "\n",
              "        async function convertToInteractive(key) {\n",
              "          const element = document.querySelector('#df-caeef187-c8ec-463d-94a5-936dbbe1d752');\n",
              "          const dataTable =\n",
              "            await google.colab.kernel.invokeFunction('convertToInteractive',\n",
              "                                                     [key], {});\n",
              "          if (!dataTable) return;\n",
              "\n",
              "          const docLinkHtml = 'Like what you see? Visit the ' +\n",
              "            '<a target=\"_blank\" href=https://colab.research.google.com/notebooks/data_table.ipynb>data table notebook</a>'\n",
              "            + ' to learn more about interactive tables.';\n",
              "          element.innerHTML = '';\n",
              "          dataTable['output_type'] = 'display_data';\n",
              "          await google.colab.output.renderOutput(dataTable, element);\n",
              "          const docLink = document.createElement('div');\n",
              "          docLink.innerHTML = docLinkHtml;\n",
              "          element.appendChild(docLink);\n",
              "        }\n",
              "      </script>\n",
              "    </div>\n",
              "  </div>\n",
              "  "
            ]
          },
          "metadata": {},
          "execution_count": 22
        }
      ]
    },
    {
      "cell_type": "markdown",
      "source": [
        "#Interpretasi 05: Prestasi Akademik antar Angkatan Mahasiswa\n",
        "\n",
        "Sesuai dengan data di atas, terdapat perbedaan prestasi akademik antar angkatan mahasiswa. Hal ini dapat dilihat dari nilai rata-rata antara angkatan 2019 dan angkatan 2020 di mana nilai rata-rata angkatan 2019 lebih tinggi dibandingkan dengan nilai rata-rata angkatan 2020. Sehingga dapat disimpulkan bahwa menurut data di atas, prestasi akademik antara mahasiswa angkatan 2019 dan mahasiswa angkatan 2020 memiliki perbedaan."
      ],
      "metadata": {
        "id": "jWjelk7xGkTj"
      }
    },
    {
      "cell_type": "markdown",
      "source": [
        "#Nomor 6\n",
        "Apakah ada permasalahan di data atau informasi lain yang anda temukan di data?\n"
      ],
      "metadata": {
        "id": "9trEddagWodJ"
      }
    },
    {
      "cell_type": "markdown",
      "source": [
        "#Interpretasi 06: Permasalahan Informasi Pada Data\n",
        "\n",
        "Melalui data-data di atas, terdapat beberapa permasalahan di data atau informasi di dalamnya, seperti terdapat beberapa tabel yang tidak dibutuhkan seperti tabel KRS dan tabel kelas, serta terdapat banyak variabel yang tidak terpakai seperti kode kelas, asal_daerah, telephone, email, dll., juga terdapat banyak data mahasiswa yang lebih dari satu sehingga dapat disebut sebagai *data duplicate* atau *noise*.\n"
      ],
      "metadata": {
        "id": "rIMLxRI2XTmr"
      }
    },
    {
      "cell_type": "markdown",
      "source": [
        "#Kesimpulan :\n",
        "Berdasarkan Data Wrangling yang telah kami lakukan dapat diindikasikan bahwa terdapat perbedaan dalam pemberian nilai lebih tinggi atau rendah oleh dosen. Terdapat juga perbedaan dalam pemberian nilai antara dosen dengan Pendidikan Terakhir S3 dan S2.\n",
        "Selain itu juga terdapat perbedaan kemampuan akademik dalam berbagai aspek, yaitu:\n",
        "\n",
        "• Terdapat perbedaan performa akademik antara mahasiswa yang berasl dari Madrasah, SMK dan SMU.\n",
        "\n",
        "• Terdapat perbedaan pada data terhadap kemampuan akademik antara mahasiswa dan mahasiswi.\n",
        "\n",
        "• Terdapat perbedaan prestasi akademik pada data antar angkatan mahasiswa.\n",
        "\n",
        "Selain dari yang di atas, juga terdapat banyak data mahasiswa yang lebih dari satu, banyak variabel yang tidak terpakai, ditemukan tabel yang tidak diperlukan seperti tabel KRS dan kelas."
      ],
      "metadata": {
        "id": "ZpgQg5yKWvS1"
      }
    }
  ]
}